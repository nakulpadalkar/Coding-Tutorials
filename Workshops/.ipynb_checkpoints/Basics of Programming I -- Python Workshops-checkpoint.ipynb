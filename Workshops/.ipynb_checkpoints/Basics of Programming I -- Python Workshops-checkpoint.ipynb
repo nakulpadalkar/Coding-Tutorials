{
 "cells": [
  {
   "cell_type": "markdown",
   "metadata": {},
   "source": [
    "# Basics of Programming I"
   ]
  },
  {
   "cell_type": "markdown",
   "metadata": {},
   "source": [
    "## Introduction"
   ]
  },
  {
   "cell_type": "markdown",
   "metadata": {},
   "source": [
    "Throughout these workshops we are going to be teaching you about programming using a language known as __Python__. Python is a really powerful language, and it is very versatile. We are going to be utilising an application known as **Jupyter Notebooks** which allows us to create and share documents with code easily and in a presentable visual format."
   ]
  },
  {
   "cell_type": "markdown",
   "metadata": {},
   "source": [
    "Learning how to program is just like learning a real language. The only way you can learn is by *doing*, and it is really important to understand that you will not learn anything unless you activley try and get involved in the examples we present. You will not become an expert in Python by the end of these workshops, but you will become more literate, and in the same way that people who can speak Italian can understand parts of Spanish these workshops will help your overall ability to program and work with data in a coherent, efficient manner."
   ]
  },
  {
   "cell_type": "markdown",
   "metadata": {},
   "source": [
    "## Why should you be here? (and why should you stay?)"
   ]
  },
  {
   "cell_type": "markdown",
   "metadata": {},
   "source": [
    "1. *Become more programming literate*: This is invaluable for your honours theses or any research project you may have to do\n",
    "2. *Your Resume*: Employers are becoming increasingly interested in graduates who are able to program or at least familiar with it. "
   ]
  },
  {
   "cell_type": "markdown",
   "metadata": {},
   "source": [
    "## The goal of this program\n",
    "\n",
    "The goal of these workshops is to allow students to introduce students to the fundamentals of programming. This is important because these skills not only make students more employable, but are also essential for any type of empirical work in Economics. This course endeavours to be accessible to *all students* regardless of background and/or skill. Core to what we are trying to achieve is increase the level of 'programming literacy' amongst students. We must emphasise that this program is **not compulsory** and we cannot be responsible for your assignments or for anything related to the units you are enrolled in."
   ]
  },
  {
   "cell_type": "markdown",
   "metadata": {},
   "source": [
    "\n",
    "\n",
    "## What is Python and Jupyter Notebooks\n",
    "\n",
    "Python is a programming language, meaning that we can use it to make our computer conduct calculations or manipulate data. Most of the tutorials you will find on the internet might seem really confusing, a lot of them will ask you to use the terminal or some editor such as Atom. That's where Jupyter Notebooks comes in. Essentially, Jupyter Notebooks are a program that allows us to write and run Python code in an envirionment which is much more user friendly and which requires less background knowledge.\n",
    "\n",
    "## Accessing Jupyter Notebooks --- fill in, either Annaconda or Citrix (waiting on IT)\n",
    "\n",
    "## Working Directories\n",
    "\n",
    "When we are working with any programming language, indeed any program that requires us to read or save data we need to have some understanding about what a 'working directory' is. You can think of a working directory as the location from which your program (in our case, Jupyter Notebooks) operates from. If I want to read data for example, it either needs to be in my working directory or I need to specify the path of the file. We will see an example of this below. This can be a little confusing at first, but for example my home directory is `/Users/varunsatish`. Your working directory can be changed for example to `/Users/varunsatish/Python_Workshops`, however for the moment this isn't too important it's just something you might need to keep in mind for later on.\n",
    "\n",
    "## Packages\n",
    "\n",
    "Packages are an important part of the Python programming language. You can think of packages as 'add ons' to the language. Some of these packages are really the basis of a lot that you will do in the programming language. A couple of examples are the Numpy and Pandas packages, which we will see a little later. Generally, the syntax for importing packages looks like:`import [package] as [convenient name]`. For example, `import pandas as pd` or `import numpy as np`. If you look online there are names under which packages are imported almost universally.\n",
    "\n",
    "## Troubleshooting \n",
    "\n",
    "The two best troubleshooters anyone who needs to program has in their arsenal are Google and Youtube. If you come across a problem, there has almost definitely been someone who has made a tutorial about it, or a forum post with a solved solution to the problem -- you just need to understand what the question you are asking actually is. Part of this comes with programming literacy, in all seriousness when it comes to learning how to code, the best thing you can do is make sure you have enough understanding not to write code automatically, but so that you  actually can ask the right questions when you inevitably stumble across problems."
   ]
  },
  {
   "cell_type": "markdown",
   "metadata": {},
   "source": [
    "## 1.1 Data Types and Data Structures"
   ]
  },
  {
   "cell_type": "markdown",
   "metadata": {},
   "source": [
    "## What is a variable?\n",
    "\n",
    "In programming, a variable is an object that we use to write code. Variables store information, and we can change what information these variables hold. We can assign names to variables, which makes life a lot easier when we are writing complicated code.\n",
    "\n",
    "For example, all of you should be familar with variables from your Econometrics classes. Suppose I observe an individual and I am interested in their age, perhaps I want to do some calculations relating to their age. Well, I can define a variable named `age`, and I can assign some value to it.\n",
    "\n",
    "In very very simple terms, a variable is an object we use to 'remember stuff', whether that be the output of some calculation, or simply a name that is more convenient."
   ]
  },
  {
   "cell_type": "markdown",
   "metadata": {},
   "source": [
    "![Variable](https://github.com/varunsatish/Coding-Tutorials/blob/master/images/variable_diagram.jpg?raw=true) "
   ]
  },
  {
   "cell_type": "markdown",
   "metadata": {},
   "source": [
    "Suppose I want to do some calculations based around the ages of a group of people, I can make use of variables to make that much easier"
   ]
  },
  {
   "cell_type": "markdown",
   "metadata": {},
   "source": [
    "![People](https://github.com/varunsatish/Coding-Tutorials/blob/master/images/1_1_ppl_diagram.jpg?raw=true) "
   ]
  },
  {
   "cell_type": "markdown",
   "metadata": {},
   "source": [
    "Another way to view this is similar to basic algebra. If you have a variable `x=3` for example, whenever you refer to `x`, you are in fact referring to the number 3. If you let `x=10`, when referring to `x`, you are referring to the number 10. The same general principal applies with variables in programming."
   ]
  },
  {
   "cell_type": "code",
   "execution_count": 1,
   "metadata": {},
   "outputs": [],
   "source": [
    "pat = 21\n",
    "lea = 16\n",
    "tommy = 48\n",
    "varun = 22\n",
    "chris = 28"
   ]
  },
  {
   "cell_type": "markdown",
   "metadata": {},
   "source": [
    "I can 'run' a block of code by using: <kbd>shift</kbd>+<kbd>enter</kbd>. This will execute the code contained within that block"
   ]
  },
  {
   "cell_type": "markdown",
   "metadata": {},
   "source": [
    "So now, we can see what value does each variable take on by using the `print` command alongside the variable name into the cell and running the cell. The `print` command simply shows what the value of the variable is."
   ]
  },
  {
   "cell_type": "code",
   "execution_count": 3,
   "metadata": {},
   "outputs": [
    {
     "data": {
      "text/plain": [
       "22"
      ]
     },
     "execution_count": 3,
     "metadata": {},
     "output_type": "execute_result"
    }
   ],
   "source": [
    "print(varun)"
   ]
  },
  {
   "cell_type": "markdown",
   "metadata": {},
   "source": [
    "You will notice in the cell above, we have `In [2]` and `Out[2]`. The `In` refers to code that we typed in, the `Out` refers to the output of the code, and the number in `[]` just keeps count of what number input/output this is."
   ]
  },
  {
   "cell_type": "markdown",
   "metadata": {},
   "source": [
    "### Some common errors: \n",
    "1. Using capital letters\n",
    "2. Spaces\n",
    "3. Numbers"
   ]
  },
  {
   "cell_type": "markdown",
   "metadata": {},
   "source": [
    "## Numbers: Floats and Integers\n",
    "\n",
    "The data type we have just been referring to are known as Integers. These are one of the most fundamental data types in Python. Integers are just whole numbers. In Python, as with in many other languages, we are able to assign values to variables that we define, and we can perform mathematical operations on or using them."
   ]
  },
  {
   "cell_type": "code",
   "execution_count": 5,
   "metadata": {},
   "outputs": [
    {
     "name": "stdout",
     "output_type": "stream",
     "text": [
      "107\n"
     ]
    }
   ],
   "source": [
    "total_age = pat + lea + tommy + varun # summing up ages\n",
    "print(total_age) # Printing ages"
   ]
  },
  {
   "cell_type": "markdown",
   "metadata": {},
   "source": [
    "Likewise, we can perform subtraction. Note that we can either see the result directly or assign the result of the calculation to a variable."
   ]
  },
  {
   "cell_type": "code",
   "execution_count": 4,
   "metadata": {},
   "outputs": [
    {
     "data": {
      "text/plain": [
       "5"
      ]
     },
     "execution_count": 4,
     "metadata": {},
     "output_type": "execute_result"
    }
   ],
   "source": [
    "pat - lea"
   ]
  },
  {
   "cell_type": "code",
   "execution_count": 5,
   "metadata": {},
   "outputs": [
    {
     "data": {
      "text/plain": [
       "5"
      ]
     },
     "execution_count": 5,
     "metadata": {},
     "output_type": "execute_result"
    }
   ],
   "source": [
    "result = pat - lea\n",
    "result"
   ]
  },
  {
   "cell_type": "markdown",
   "metadata": {},
   "source": [
    "***NOTE:*** It is really important that you remember to 'comment' on your code. In Python, you can use `#` before something you type in order to write a section of code that does not 'run' when you run the code block. If you don't comment you will have absolutely no idea what you were talking about when you go back and check your code -- especially when your code gets complicated."
   ]
  },
  {
   "cell_type": "markdown",
   "metadata": {},
   "source": [
    "Additionally, division is carried out by `/` whilst multiplication is `*`. Raising to the power is `**`."
   ]
  },
  {
   "cell_type": "code",
   "execution_count": 12,
   "metadata": {},
   "outputs": [
    {
     "name": "stdout",
     "output_type": "stream",
     "text": [
      "5.0\n",
      "50\n",
      "4\n"
     ]
    }
   ],
   "source": [
    "print(10/2)\n",
    "print(10*5)\n",
    "print(2**2)"
   ]
  },
  {
   "cell_type": "markdown",
   "metadata": {},
   "source": [
    "One final thing to note is that we don't need to keep defining new variables, once we have defined a variable it has been 'remembered'. Now, unlike other programs that you may have used, for example STATA; there is no easy to use GUI to track which variables have been created and so forth, sometimes you can define a variable, delete the code, and if you haven't restarted the kernel, the computer will still remember it. "
   ]
  },
  {
   "cell_type": "markdown",
   "metadata": {},
   "source": [
    "## Words: Strings\n",
    "\n",
    "Strings are an object that are *generally* used to represent text information. In the same way that we can assign an integer to a variable ```x```, we can do the same with strings. When we are working with strings, it is important to remember to use the quotation marks `'` or `\"`."
   ]
  },
  {
   "cell_type": "code",
   "execution_count": 6,
   "metadata": {},
   "outputs": [
    {
     "name": "stdout",
     "output_type": "stream",
     "text": [
      "Whiskers\n",
      "Bow wow\n"
     ]
    }
   ],
   "source": [
    "cat_name = \"Whiskers\"\n",
    "dog_name = \"Bow wow\"\n",
    "print(cat_name)\n",
    "print(dog_name)"
   ]
  },
  {
   "cell_type": "markdown",
   "metadata": {},
   "source": [
    "We can also combine variables alongside string using the `+` operator."
   ]
  },
  {
   "cell_type": "code",
   "execution_count": 8,
   "metadata": {},
   "outputs": [
    {
     "name": "stdout",
     "output_type": "stream",
     "text": [
      "I choose you Pikachu!\n"
     ]
    }
   ],
   "source": [
    "pokemon_one = \"Pikachu\"\n",
    "print(\"I choose you \" + pokemon_one + \"!\")"
   ]
  },
  {
   "cell_type": "markdown",
   "metadata": {},
   "source": [
    "We can expand this even further."
   ]
  },
  {
   "cell_type": "code",
   "execution_count": 9,
   "metadata": {},
   "outputs": [
    {
     "name": "stdout",
     "output_type": "stream",
     "text": [
      "I choose you Pikachu and Eevee!\n"
     ]
    }
   ],
   "source": [
    "pokemon_two = \"Eevee\"\n",
    "print(\"I choose you \" + pokemon_one + \" and \" + pokemon_two + \"!\")"
   ]
  },
  {
   "cell_type": "markdown",
   "metadata": {},
   "source": [
    "**Extension**: You may notice that printing these variables alongside the `+` operator can get quite cumbersome. Hence, in Python, we have `f-strings` to simplify code and make it easier to read. We put an `f` (for format) at the front of the string alongside `{}` for variables."
   ]
  },
  {
   "cell_type": "code",
   "execution_count": 10,
   "metadata": {},
   "outputs": [
    {
     "name": "stdout",
     "output_type": "stream",
     "text": [
      "I choose you Pikachu and Eevee!\n"
     ]
    }
   ],
   "source": [
    "print(f\"I choose you {pokemon_one} and {pokemon_two}!\")"
   ]
  },
  {
   "cell_type": "markdown",
   "metadata": {},
   "source": [
    "Strings are **NOT** treated the same way as integers. For example, `apple = 5` is treated differently to `apple = '5'`, we **cannot perform** numerical calculations using strings. "
   ]
  },
  {
   "cell_type": "code",
   "execution_count": 11,
   "metadata": {},
   "outputs": [
    {
     "name": "stdout",
     "output_type": "stream",
     "text": [
      "<class 'int'>\n",
      "<class 'str'>\n"
     ]
    }
   ],
   "source": [
    "apple = 5\n",
    "print(type(apple))\n",
    "apple = '5'\n",
    "print(type(apple))"
   ]
  },
  {
   "cell_type": "markdown",
   "metadata": {},
   "source": [
    "Here, we can see that in the first case, apple is of type integer whilst in the second case, it is of type string. Now let us try out doing calculations on strings."
   ]
  },
  {
   "cell_type": "code",
   "execution_count": 13,
   "metadata": {},
   "outputs": [
    {
     "name": "stdout",
     "output_type": "stream",
     "text": [
      "1.0\n"
     ]
    }
   ],
   "source": [
    "age = 5\n",
    "print(age/5)"
   ]
  },
  {
   "cell_type": "code",
   "execution_count": 14,
   "metadata": {},
   "outputs": [
    {
     "ename": "TypeError",
     "evalue": "unsupported operand type(s) for /: 'str' and 'int'",
     "output_type": "error",
     "traceback": [
      "\u001b[0;31m---------------------------------------------------------------------------\u001b[0m",
      "\u001b[0;31mTypeError\u001b[0m                                 Traceback (most recent call last)",
      "\u001b[0;32m<ipython-input-14-3f817e28027d>\u001b[0m in \u001b[0;36m<module>\u001b[0;34m()\u001b[0m\n\u001b[1;32m      1\u001b[0m \u001b[0;31m# An error will occur here.\u001b[0m\u001b[0;34m\u001b[0m\u001b[0;34m\u001b[0m\u001b[0m\n\u001b[1;32m      2\u001b[0m \u001b[0mdog_age\u001b[0m \u001b[0;34m=\u001b[0m \u001b[0;34m'10'\u001b[0m\u001b[0;34m\u001b[0m\u001b[0m\n\u001b[0;32m----> 3\u001b[0;31m \u001b[0mprint\u001b[0m\u001b[0;34m(\u001b[0m\u001b[0mdog_age\u001b[0m\u001b[0;34m/\u001b[0m\u001b[0;36m2\u001b[0m\u001b[0;34m)\u001b[0m\u001b[0;34m\u001b[0m\u001b[0m\n\u001b[0m",
      "\u001b[0;31mTypeError\u001b[0m: unsupported operand type(s) for /: 'str' and 'int'"
     ]
    }
   ],
   "source": [
    "# An error will occur here.\n",
    "dog_age = '10'\n",
    "print(dog_age/2)"
   ]
  },
  {
   "cell_type": "markdown",
   "metadata": {},
   "source": [
    "Essentially any time we are using text data, we are working with strings. If there are problems with computation, sometimes the first place you can look is by checking the `type()` of the data. For example, if `type(z) = str` we cannot do any computation with `z`."
   ]
  },
  {
   "cell_type": "markdown",
   "metadata": {},
   "source": [
    "## Collections of objects: Lists"
   ]
  },
  {
   "cell_type": "markdown",
   "metadata": {},
   "source": [
    "![People](https://github.com/varunsatish/Coding-Tutorials/blob/master/images/lists.jpg?raw=true) \n",
    "\n"
   ]
  },
  {
   "cell_type": "markdown",
   "metadata": {},
   "source": [
    "A 'list' is a collection of arbitrary objects, we define a list using the square brackets:"
   ]
  },
  {
   "cell_type": "code",
   "execution_count": 15,
   "metadata": {},
   "outputs": [
    {
     "name": "stdout",
     "output_type": "stream",
     "text": [
      "['Tommy', 'Pat', 'Lea', 'Varun']\n"
     ]
    }
   ],
   "source": [
    "ECMT_cohort = ['Tommy', 'Pat', 'Lea', 'Varun']\n",
    "print(ECMT_cohort)"
   ]
  },
  {
   "cell_type": "markdown",
   "metadata": {},
   "source": [
    "Notice that what we have actually done is created a collection of objects. These collections are known as 'lists' and they are very important because they allow us to keep variables together. Python doesn't (usually) have any notion of a 'vector', so for those of you who have some background in programming or Linear Algebra, sometimes when you need to do some computation, you can think of lists of integers as sort of like vectors."
   ]
  },
  {
   "cell_type": "markdown",
   "metadata": {},
   "source": [
    "We can perform functions on lists, for example we may be interested in how many elements are within the list, or we may be interested in a specfic object within the list. These are very basic examples and there are far more functions, but for now these will do."
   ]
  },
  {
   "cell_type": "code",
   "execution_count": 8,
   "metadata": {},
   "outputs": [
    {
     "data": {
      "text/plain": [
       "4"
      ]
     },
     "execution_count": 8,
     "metadata": {},
     "output_type": "execute_result"
    }
   ],
   "source": [
    "len(ECMT_cohort) "
   ]
  },
  {
   "cell_type": "markdown",
   "metadata": {},
   "source": [
    "We can also **'index'** lists, meaning that we can refer to specific elements within them by reffering to the numerical order. This is extremley important later on when we talk about functions and loops."
   ]
  },
  {
   "cell_type": "code",
   "execution_count": 16,
   "metadata": {},
   "outputs": [
    {
     "data": {
      "text/plain": [
       "'Tommy'"
      ]
     },
     "execution_count": 16,
     "metadata": {},
     "output_type": "execute_result"
    }
   ],
   "source": [
    "ECMT_cohort[0] # Python indexing begins at 0!"
   ]
  },
  {
   "cell_type": "markdown",
   "metadata": {},
   "source": [
    "We have all come across indexing before. For example, if we have a random variable $x$, we can refer to the $i^{th}$ observation with $x_i$ i.e the first observation is $x_1$, the second is $x_2$ and so forth. "
   ]
  },
  {
   "cell_type": "code",
   "execution_count": null,
   "metadata": {},
   "outputs": [],
   "source": [
    "#Exercise 1.1 solution\n",
    "\n",
    "x = 1\n",
    "\n",
    "y = '1'\n",
    "\n",
    "print(x)\n",
    " \n",
    "print(y)\n",
    "\n",
    "x + 3 \n",
    "y + 2"
   ]
  }
 ],
 "metadata": {
  "kernelspec": {
   "display_name": "Python 3",
   "language": "python",
   "name": "python3"
  },
  "language_info": {
   "codemirror_mode": {
    "name": "ipython",
    "version": 3
   },
   "file_extension": ".py",
   "mimetype": "text/x-python",
   "name": "python",
   "nbconvert_exporter": "python",
   "pygments_lexer": "ipython3",
   "version": "3.7.0"
  }
 },
 "nbformat": 4,
 "nbformat_minor": 2
}
